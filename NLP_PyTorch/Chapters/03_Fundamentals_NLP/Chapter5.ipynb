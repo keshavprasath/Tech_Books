{
 "cells": [
  {
   "cell_type": "markdown",
   "id": "d567ed5b",
   "metadata": {},
   "source": [
    "# RNNs & Sentiment Analysis\n",
    "\n",
    "- RecurrentNN variation of the FF-NNs\n",
    "- used when task can be represented as a sequence\n",
    "- sentence is a seq of words\n",
    "- RNN takes whole sequence of vectors as input (CNN takes single vector)\n",
    "- if each word in document is a vector embedd, then whole document can be represented as order 3 tensor\n",
    "- LSTM (a more sophisticated RNN)"
   ]
  },
  {
   "cell_type": "code",
   "execution_count": 1,
   "id": "2c7d3248",
   "metadata": {},
   "outputs": [],
   "source": [
    "import pandas as pd\n",
    "from string import punctuation\n",
    "import numpy as np\n",
    "import torch\n",
    "from nltk.tokenize import word_tokenize\n",
    "from torch.utils.data import TensorDataset, DataLoader\n",
    "from torch import nn\n",
    "from torch import optim\n",
    "import json"
   ]
  },
  {
   "cell_type": "markdown",
   "id": "87d0741e",
   "metadata": {},
   "source": [
    "### Theory of RNNs\n",
    "\n",
    "- consists of reccurent layers, but similar to standard feedforward NN\n",
    "- but the addition of hidden reccurent state gets updated at each step\n",
    "- for any sequence, model initialised with a hidden state as 1dim vector\n",
    "\n",
    "#### Training\n",
    "- each word in the sentence is fed into training and hidden state (HS) in updated\n",
    "- iterates until all words are processed with the fiden hidden state vector\n",
    "- the final HS is fed into a fully  connected later and final classi is pred.\n",
    "\n",
    "can use activation functions like (tanh) to bould hidden state between -1 and 1"
   ]
  },
  {
   "cell_type": "code",
   "execution_count": null,
   "id": "9b0ea50a",
   "metadata": {},
   "outputs": [],
   "source": []
  },
  {
   "cell_type": "code",
   "execution_count": null,
   "id": "700a74e9",
   "metadata": {},
   "outputs": [],
   "source": []
  },
  {
   "cell_type": "code",
   "execution_count": null,
   "id": "07cda9eb",
   "metadata": {},
   "outputs": [],
   "source": []
  },
  {
   "cell_type": "code",
   "execution_count": null,
   "id": "35ed9214",
   "metadata": {},
   "outputs": [],
   "source": []
  }
 ],
 "metadata": {
  "kernelspec": {
   "display_name": "Python 3 (ipykernel)",
   "language": "python",
   "name": "python3"
  },
  "language_info": {
   "codemirror_mode": {
    "name": "ipython",
    "version": 3
   },
   "file_extension": ".py",
   "mimetype": "text/x-python",
   "name": "python",
   "nbconvert_exporter": "python",
   "pygments_lexer": "ipython3",
   "version": "3.10.9"
  }
 },
 "nbformat": 4,
 "nbformat_minor": 5
}
