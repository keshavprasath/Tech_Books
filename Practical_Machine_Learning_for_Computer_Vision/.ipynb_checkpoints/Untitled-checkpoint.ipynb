{
 "cells": [
  {
   "cell_type": "markdown",
   "id": "c4284c7f",
   "metadata": {},
   "source": [
    "# Chapter 1. Machine Learning for Computer Vision\n",
    "\n",
    "- Computer vision tries to imitate human vision capabilities by providing methods for image formation and machine perception, so forming an image and interpreting what that is doing\n",
    "- imitation is done by hardware, ie camera and sensors\n",
    "- perception is by software, mostly ML models used to extract information from the image"
   ]
  },
  {
   "cell_type": "markdown",
   "id": "60eedf41",
   "metadata": {},
   "source": [
    "## Summary of AlexNet and Its Novel Features\n",
    "\n",
    "- AlexNet introduced several novel elements to the field of neural networks and specifically, convolutional neural networks (CNNs), which had been around since the 1970s and 1989 respectively.\n",
    "\n",
    "### Graphics Processing Units (GPUs)\n",
    "\n",
    "- AlexNet made use of GPUs to implement convolutional networks.\n",
    "- GPUs, originally used for high-end visualization and gaming, allowed for computationally expensive CNNs to be feasibly trained.\n",
    "- The model was designed to distribute the convolutions across two GPUs.\n",
    "\n",
    "### Rectified Linear Unit (ReLU) Activation\n",
    "\n",
    "- AlexNet utilized a non-saturating activation function called ReLU.\n",
    "- This piecewise linear non-saturating activation function allowed for faster convergence of the model.\n",
    "\n",
    "### Regularization\n",
    "\n",
    "- Due to ReLUs' potential to cause numerical instability in neural network weights, AlexNet applied a regularization technique.\n",
    "- This technique controlled the weights from becoming excessively large.\n",
    "\n",
    "### Depth\n",
    "\n",
    "- With faster training capabilities, AlexNet was able to train a deeper, more complex model with additional neural network layers.\n",
    "\n",
    "\n",
    "- Computer vision helps computers understand the content of digital images\n"
   ]
  },
  {
   "cell_type": "code",
   "execution_count": null,
   "id": "c48c98b4",
   "metadata": {},
   "outputs": [],
   "source": []
  },
  {
   "cell_type": "code",
   "execution_count": null,
   "id": "82952e68",
   "metadata": {},
   "outputs": [],
   "source": []
  },
  {
   "cell_type": "code",
   "execution_count": null,
   "id": "df71017c",
   "metadata": {},
   "outputs": [],
   "source": []
  },
  {
   "cell_type": "code",
   "execution_count": null,
   "id": "074613ed",
   "metadata": {},
   "outputs": [],
   "source": []
  },
  {
   "cell_type": "code",
   "execution_count": null,
   "id": "e5859fbd",
   "metadata": {},
   "outputs": [],
   "source": []
  },
  {
   "cell_type": "code",
   "execution_count": null,
   "id": "ac0bb0f3",
   "metadata": {},
   "outputs": [],
   "source": []
  },
  {
   "cell_type": "code",
   "execution_count": null,
   "id": "ec993878",
   "metadata": {},
   "outputs": [],
   "source": []
  },
  {
   "cell_type": "code",
   "execution_count": null,
   "id": "75fae16f",
   "metadata": {},
   "outputs": [],
   "source": []
  },
  {
   "cell_type": "code",
   "execution_count": null,
   "id": "21d6ee6a",
   "metadata": {},
   "outputs": [],
   "source": []
  },
  {
   "cell_type": "code",
   "execution_count": null,
   "id": "c3b7db64",
   "metadata": {},
   "outputs": [],
   "source": []
  },
  {
   "cell_type": "markdown",
   "id": "91d07b76",
   "metadata": {},
   "source": []
  }
 ],
 "metadata": {
  "kernelspec": {
   "display_name": "Python 3 (ipykernel)",
   "language": "python",
   "name": "python3"
  },
  "language_info": {
   "codemirror_mode": {
    "name": "ipython",
    "version": 3
   },
   "file_extension": ".py",
   "mimetype": "text/x-python",
   "name": "python",
   "nbconvert_exporter": "python",
   "pygments_lexer": "ipython3",
   "version": "3.10.9"
  }
 },
 "nbformat": 4,
 "nbformat_minor": 5
}
