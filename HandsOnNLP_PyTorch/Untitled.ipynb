{
 "cells": [
  {
   "cell_type": "markdown",
   "id": "e86c3b34",
   "metadata": {},
   "source": [
    "# Chapter 7: Text Translation Using Sequence-to-Sequence Neural Network (Notes)\n",
    "\n",
    "- seq to seq modeling: takes in one sentence in one language and outputs the translation in another language\n",
    "- using RNN as part of a larger, more complex model to perform sequence to sequence translatin (basically extending RNNs)"
   ]
  },
  {
   "cell_type": "code",
   "execution_count": null,
   "id": "d5fe464e",
   "metadata": {},
   "outputs": [],
   "source": []
  },
  {
   "cell_type": "code",
   "execution_count": null,
   "id": "769487af",
   "metadata": {},
   "outputs": [],
   "source": []
  },
  {
   "cell_type": "code",
   "execution_count": null,
   "id": "e41d7381",
   "metadata": {},
   "outputs": [],
   "source": []
  },
  {
   "cell_type": "code",
   "execution_count": null,
   "id": "26bfa834",
   "metadata": {},
   "outputs": [],
   "source": []
  },
  {
   "cell_type": "markdown",
   "id": "ecc2df4d",
   "metadata": {},
   "source": [
    "# Code"
   ]
  },
  {
   "cell_type": "code",
   "execution_count": null,
   "id": "c5edbf39",
   "metadata": {},
   "outputs": [],
   "source": [
    "import torch\n",
    "import torch.nn as nn\n",
    "import torch.optim as optim\n",
    "import spacy\n",
    "import numpy as np\n",
    "import random\n",
    "import math\n",
    "import time\n",
    "from torchtext.datasets import TranslationDataset, Multi30k\n",
    "from torchtext.data import Field, BucketIterator"
   ]
  },
  {
   "cell_type": "code",
   "execution_count": null,
   "id": "a9cc06aa",
   "metadata": {},
   "outputs": [],
   "source": [
    "from torchtext.datasets import Multi30k\n",
    "from torchtext.data.utils import get_tokenizer\n",
    "from torchtext.vocab import build_vocab_from_iterator\n",
    "from typing import Iterable, List\n",
    "\n",
    "def yield_tokens(data_iter: Iterable, language: str) -> List[str]:\n",
    "    language_index = {SRC_LANGUAGE: 0, TGT_LANGUAGE: 1}\n",
    "\n",
    "    for data_sample in data_iter:\n",
    "        yield token_transform[language](data_sample[language_index[language]])\n",
    "\n",
    "# Define source and target language\n",
    "SRC_LANGUAGE = 'de'\n",
    "TGT_LANGUAGE = 'en'\n",
    "\n",
    "# Place holder for tokens and vocabulary\n",
    "token_transform = {}\n",
    "vocab_transform = {}\n",
    "\n",
    "# Create source and target language tokenizer\n",
    "token_transform[SRC_LANGUAGE] = get_tokenizer('spacy', language='de')\n",
    "token_transform[TGT_LANGUAGE] = get_tokenizer('spacy', language='en')\n",
    "\n",
    "# Training data Iterator \n",
    "train_iter = Multi30k(split='train', language_pair=(SRC_LANGUAGE, TGT_LANGUAGE))\n",
    "\n",
    "# Create torchtext's Vocab object \n",
    "vocab_transform[SRC_LANGUAGE] = build_vocab_from_iterator(yield_tokens(train_iter, SRC_LANGUAGE))\n",
    "vocab_transform[TGT_LANGUAGE] = build_vocab_from_iterator(yield_tokens(train_iter, TGT_LANGUAGE))\n"
   ]
  },
  {
   "cell_type": "code",
   "execution_count": null,
   "id": "9cd1ba40",
   "metadata": {},
   "outputs": [],
   "source": [
    "spacy_german = spacy.load('de')\n",
    "spacy_english = spacy.load('en')"
   ]
  },
  {
   "cell_type": "code",
   "execution_count": null,
   "id": "5d196e1d",
   "metadata": {},
   "outputs": [],
   "source": [
    "def tokenize_german(text):\n",
    "    return [token.text for token in spacy_german.tokenizer(text)]\n",
    "def tokenize_english(text):\n",
    "    return [token.text for token in spacy_english.tokenizer(text)][::-1]"
   ]
  },
  {
   "cell_type": "code",
   "execution_count": null,
   "id": "da1fb4f3",
   "metadata": {},
   "outputs": [],
   "source": [
    "SOURCE = Field(tokenize = tokenize_english, \n",
    "            init_token = '<sos>', \n",
    "            eos_token = '<eos>', \n",
    "            lower = True)\n",
    "\n",
    "TARGET = Field(tokenize = tokenize_german, \n",
    "            init_token = '<sos>', \n",
    "            eos_token = '<eos>', \n",
    "            lower = True)"
   ]
  },
  {
   "cell_type": "code",
   "execution_count": null,
   "id": "aa2463de",
   "metadata": {},
   "outputs": [],
   "source": [
    "\n",
    "train_data, valid_data, test_data = Multi30k.splits(exts = ('.en', '.de'), \n",
    "                                                    fields = (SOURCE, TARGET))"
   ]
  },
  {
   "cell_type": "code",
   "execution_count": null,
   "id": "dbc85b94",
   "metadata": {},
   "outputs": [],
   "source": [
    "\n",
    "print(train_data.examples[0].src)\n",
    "print(train_data.examples[0].trg)"
   ]
  },
  {
   "cell_type": "code",
   "execution_count": null,
   "id": "f4cd3adc",
   "metadata": {},
   "outputs": [],
   "source": [
    "\n",
    "print(\"Training dataset size: \" + str(len(train_data.examples)))\n",
    "print(\"Validation dataset size: \" + str(len(valid_data.examples)))\n",
    "print(\"Test dataset size: \" + str(len(test_data.examples)))"
   ]
  },
  {
   "cell_type": "code",
   "execution_count": null,
   "id": "fe7b2497",
   "metadata": {},
   "outputs": [],
   "source": [
    "\n",
    "SOURCE.build_vocab(train_data, min_freq = 2)\n",
    "TARGET.build_vocab(train_data, min_freq = 2)\n",
    "\n",
    "print(\"English (Source) Vocabulary Size: \" + str(len(SOURCE.vocab)))\n",
    "print(\"German (Target) Vocabulary Size: \" + str(len(TARGET.vocab)))"
   ]
  },
  {
   "cell_type": "code",
   "execution_count": null,
   "id": "ed4efc0e",
   "metadata": {},
   "outputs": [],
   "source": [
    "\n",
    "device = torch.device('cuda' if torch.cuda.is_available() else 'cpu')\n",
    "\n",
    "batch_size = 32\n",
    "\n",
    "train_iterator, valid_iterator, test_iterator = BucketIterator.splits(\n",
    "    (train_data, valid_data, test_data), \n",
    "    batch_size = batch_size, \n",
    "    device = device)"
   ]
  },
  {
   "cell_type": "code",
   "execution_count": null,
   "id": "24f3659b",
   "metadata": {},
   "outputs": [],
   "source": [
    "\n",
    "class Encoder(nn.Module):\n",
    "    def __init__(self, input_dims, emb_dims, hid_dims, n_layers, dropout):\n",
    "        super().__init__()\n",
    "        \n",
    "        self.hid_dims = hid_dims\n",
    "        self.n_layers = n_layers\n",
    "        \n",
    "        self.embedding = nn.Embedding(input_dims, emb_dims)\n",
    "        \n",
    "        self.rnn = nn.LSTM(emb_dims, hid_dims, n_layers, dropout = dropout)\n",
    "        \n",
    "        self.dropout = nn.Dropout(dropout)\n",
    "        \n",
    "    def forward(self, src):\n",
    "        \n",
    "        embedded = self.dropout(self.embedding(src))\n",
    "        \n",
    "        outputs, (h, cell) = self.rnn(embedded)\n",
    "        \n",
    "        return h, cell"
   ]
  },
  {
   "cell_type": "code",
   "execution_count": null,
   "id": "35c6fb06",
   "metadata": {},
   "outputs": [],
   "source": [
    "class Decoder(nn.Module):\n",
    "    def __init__(self, output_dims, emb_dims, hid_dims, n_layers, dropout):\n",
    "        super().__init__()\n",
    "        \n",
    "        self.output_dims = output_dims\n",
    "        self.hid_dims = hid_dims\n",
    "        self.n_layers = n_layers\n",
    "        \n",
    "        self.embedding = nn.Embedding(output_dims, emb_dims)\n",
    "        \n",
    "        self.rnn = nn.LSTM(emb_dims, hid_dims, n_layers, dropout = dropout)\n",
    "        \n",
    "        self.fc_out = nn.Linear(hid_dims, output_dims)\n",
    "        \n",
    "        self.dropout = nn.Dropout(dropout)\n",
    "        \n",
    "    def forward(self, input, h, cell):\n",
    "                \n",
    "        input = input.unsqueeze(0)\n",
    "                \n",
    "        embedded = self.dropout(self.embedding(input))\n",
    "                \n",
    "        output, (h, cell) = self.rnn(embedded, (h, cell))\n",
    "        \n",
    "        pred = self.fc_out(output.squeeze(0))\n",
    "        \n",
    "        return pred, h, cell"
   ]
  },
  {
   "cell_type": "code",
   "execution_count": null,
   "id": "6b1b1e0b",
   "metadata": {},
   "outputs": [],
   "source": [
    "class Seq2Seq(nn.Module):\n",
    "    def __init__(self, encoder, decoder, device):\n",
    "        super().__init__()\n",
    "        \n",
    "        self.encoder = encoder\n",
    "        self.decoder = decoder\n",
    "        self.device = device\n",
    "        \n",
    "    def forward(self, src, trg, teacher_forcing_rate = 0.5):\n",
    "        \n",
    "        batch_size = trg.shape[1]\n",
    "        target_length = trg.shape[0]\n",
    "        target_vocab_size = self.decoder.output_dims\n",
    "        \n",
    "        outputs = torch.zeros(target_length, batch_size, target_vocab_size).to(self.device)\n",
    "        \n",
    "        h, cell = self.encoder(src)\n",
    "        \n",
    "        input = trg[0,:]\n",
    "        \n",
    "        for t in range(1, target_length):\n",
    "\n",
    "            output, h, cell = self.decoder(input, h, cell)\n",
    "            \n",
    "            outputs[t] = output\n",
    "            \n",
    "            top = output.argmax(1) \n",
    "        \n",
    "            input = trg[t] if (random.random() < teacher_forcing_rate) else top\n",
    "        \n",
    "        return outputs"
   ]
  },
  {
   "cell_type": "code",
   "execution_count": null,
   "id": "277f45dc",
   "metadata": {},
   "outputs": [],
   "source": [
    "\n",
    "input_dimensions = len(SOURCE.vocab)\n",
    "output_dimensions = len(TARGET.vocab)\n",
    "encoder_embedding_dimensions = 256\n",
    "decoder_embedding_dimensions = 256\n",
    "hidden_layer_dimensions = 512\n",
    "number_of_layers = 2\n",
    "encoder_dropout = 0.5\n",
    "decoder_dropout = 0.5\n",
    "\n",
    "encod = Encoder(input_dimensions, encoder_embedding_dimensions,\\\n",
    "              hidden_layer_dimensions, number_of_layers, encoder_dropout)\n",
    "decod = Decoder(output_dimensions, decoder_embedding_dimensions,\\\n",
    "              hidden_layer_dimensions, number_of_layers, decoder_dropout)\n",
    "\n",
    "model = Seq2Seq(encod, decod, device).to(device)"
   ]
  },
  {
   "cell_type": "code",
   "execution_count": null,
   "id": "8fbe8711",
   "metadata": {},
   "outputs": [],
   "source": [
    "\n",
    "def initialize_weights(m):\n",
    "    for name, param in m.named_parameters():\n",
    "        nn.init.uniform_(param.data, -0.1, 0.1)\n",
    "        \n",
    "model.apply(initialize_weights)"
   ]
  },
  {
   "cell_type": "code",
   "execution_count": null,
   "id": "74beda9c",
   "metadata": {},
   "outputs": [],
   "source": [
    "\n",
    "optimizer = optim.Adam(model.parameters())\n",
    "\n",
    "criterion = nn.CrossEntropyLoss(ignore_index = TARGET.vocab.stoi[TARGET.pad_token])"
   ]
  },
  {
   "cell_type": "code",
   "execution_count": null,
   "id": "6cf0af63",
   "metadata": {},
   "outputs": [],
   "source": [
    "def train(model, iterator, optimizer, criterion, clip):\n",
    "    \n",
    "    model.train()\n",
    "    \n",
    "    epoch_loss = 0\n",
    "    \n",
    "    for i, batch in enumerate(iterator):\n",
    "        \n",
    "        src = batch.src\n",
    "        trg = batch.trg\n",
    "        \n",
    "        optimizer.zero_grad()\n",
    "        \n",
    "        output = model(src, trg)\n",
    "        \n",
    "        output_dims = output.shape[-1]\n",
    "        output = output[1:].view(-1, output_dims)\n",
    "        trg = trg[1:].view(-1)\n",
    "        \n",
    "        loss = criterion(output, trg)\n",
    "        \n",
    "        loss.backward()\n",
    "        \n",
    "        torch.nn.utils.clip_grad_norm_(model.parameters(), clip)\n",
    "        \n",
    "        optimizer.step()\n",
    "        \n",
    "        epoch_loss += loss.item()\n",
    "        \n",
    "    return epoch_loss / len(iterator)"
   ]
  },
  {
   "cell_type": "code",
   "execution_count": null,
   "id": "b22b5969",
   "metadata": {},
   "outputs": [],
   "source": [
    "def evaluate(model, iterator, criterion):\n",
    "    \n",
    "    model.eval()\n",
    "    \n",
    "    epoch_loss = 0\n",
    "    \n",
    "    with torch.no_grad():\n",
    "    \n",
    "        for i, batch in enumerate(iterator):\n",
    "\n",
    "            src = batch.src\n",
    "            trg = batch.trg\n",
    "\n",
    "            output = model(src, trg, 0)\n",
    "\n",
    "            output_dim = output.shape[-1]\n",
    "            \n",
    "            output = output[1:].view(-1, output_dim)\n",
    "            trg = trg[1:].view(-1)\n",
    "\n",
    "            loss = criterion(output, trg)\n",
    "            \n",
    "            epoch_loss += loss.item()\n",
    "        \n",
    "    return epoch_loss / len(iterator)"
   ]
  },
  {
   "cell_type": "code",
   "execution_count": null,
   "id": "0fe40910",
   "metadata": {},
   "outputs": [],
   "source": [
    "epochs = 10\n",
    "grad_clip = 1\n",
    "\n",
    "lowest_validation_loss = float('inf')\n",
    "\n",
    "for epoch in range(epochs):\n",
    "    \n",
    "    start_time = time.time()\n",
    "    \n",
    "    train_loss = train(model, train_iterator, optimizer, criterion, grad_clip)\n",
    "    valid_loss = evaluate(model, valid_iterator, criterion)\n",
    "    \n",
    "    end_time = time.time()\n",
    "    \n",
    "    if valid_loss < lowest_validation_loss:\n",
    "        lowest_validation_loss = valid_loss\n",
    "        torch.save(model.state_dict(), 'seq2seq.pt')\n",
    "    \n",
    "    print(f'Epoch: {epoch+1:02} | Time: {np.round(end_time-start_time,0)}s')\n",
    "    print(f'\\tTrain Loss: {train_loss:.4f}')\n",
    "    print(f'\\t Val. Loss: {valid_loss:.4f}')"
   ]
  },
  {
   "cell_type": "code",
   "execution_count": null,
   "id": "3c20ad12",
   "metadata": {},
   "outputs": [],
   "source": [
    "model.load_state_dict(torch.load('seq2seq.pt'))\n",
    "\n",
    "test_loss = evaluate(model, test_iterator, criterion)\n",
    "\n",
    "print(f'Test Loss: {test_loss:.4f}')"
   ]
  },
  {
   "cell_type": "code",
   "execution_count": null,
   "id": "d7068e08",
   "metadata": {},
   "outputs": [],
   "source": [
    "def translate(model, iterator, limit = 4):\n",
    "    \n",
    "    model.eval()\n",
    "    \n",
    "    epoch_loss = 0\n",
    "    \n",
    "    with torch.no_grad():\n",
    "    \n",
    "        for i, batch in enumerate(iterator):\n",
    "            if i < limit :\n",
    "                \n",
    "                src = batch.src\n",
    "                trg = batch.trg\n",
    "\n",
    "                output = model(src, trg, 0)\n",
    "                preds = torch.tensor([[torch.argmax(x).item()] for x in output])\n",
    "                \n",
    "                print('English Input: ' + str([SOURCE.vocab.itos[x] for x in src][1:-1][::-1]))\n",
    "                print('Correct German Output: ' + str([TARGET.vocab.itos[x] for x in trg][1:-1]))\n",
    "                print('Predicted German Output: ' + str([TARGET.vocab.itos[x] for x in preds][1:-1]))\n",
    "                print('\\n')\n"
   ]
  },
  {
   "cell_type": "code",
   "execution_count": null,
   "id": "7bd5d91c",
   "metadata": {},
   "outputs": [],
   "source": [
    "_, _, eval_iterator = BucketIterator.splits(\n",
    "    (train_data, valid_data, test_data), \n",
    "    batch_size = 1, \n",
    "    device = device)"
   ]
  },
  {
   "cell_type": "code",
   "execution_count": null,
   "id": "ebbec788",
   "metadata": {},
   "outputs": [],
   "source": [
    "\n",
    "output = translate(model, eval_iterator)"
   ]
  },
  {
   "cell_type": "code",
   "execution_count": null,
   "id": "5c25737f",
   "metadata": {},
   "outputs": [],
   "source": []
  },
  {
   "cell_type": "code",
   "execution_count": null,
   "id": "c9118ab3",
   "metadata": {},
   "outputs": [],
   "source": []
  }
 ],
 "metadata": {
  "kernelspec": {
   "display_name": "Python 3 (ipykernel)",
   "language": "python",
   "name": "python3"
  },
  "language_info": {
   "codemirror_mode": {
    "name": "ipython",
    "version": 3
   },
   "file_extension": ".py",
   "mimetype": "text/x-python",
   "name": "python",
   "nbconvert_exporter": "python",
   "pygments_lexer": "ipython3",
   "version": "3.10.9"
  }
 },
 "nbformat": 4,
 "nbformat_minor": 5
}
