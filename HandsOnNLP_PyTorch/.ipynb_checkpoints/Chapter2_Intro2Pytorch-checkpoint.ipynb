{
 "cells": [
  {
   "cell_type": "markdown",
   "id": "aa31ea9a",
   "metadata": {},
   "source": [
    "# Introduction to Deep Learning\n",
    "\n",
    "## Tensors\n",
    "\n",
    "- A tensor's order, which is one of its properties, determines its dimensionality.\n",
    "    - An order 1 tensor is a single-dimensional array (similar to a vector).\n",
    "    - An order 2 tensor is a two-dimensional array (similar to a matrix).\n",
    "    - An order 3 tensor is a three-dimensional array, and this pattern continues for higher dimensions.\n",
    "- The `.shape` function is used to return the dimensions of a tensor.\n",
    "\n",
    "## PyTorch acceleration using CUDA\n",
    "\n",
    "- PyTorch can efficiently leverage the computational power of GPUs.\n",
    "- This ability allows computational tasks to be effectively parallelized, enhancing performance.\n",
    "- Compute Unified Device Architecture (CUDA) is a technology developed by Nvidia. It enables hardware acceleration on PyTorch when used with Nvidia's GPUs.\n",
    "\n",
    "## Comparing PyTorch to Other Frameworks\n",
    "\n",
    "- There are several deep learning frameworks like TensorFlow, Theano, etc., but they differ from PyTorch in various ways:\n",
    "    - Differences in how models are computed.\n",
    "    - Variations in the way computational graphs are compiled.\n",
    "    - Some frameworks support dynamic computational graphs with variable layers.\n",
    "    - Syntax differences also exist among these frameworks.\n",
    "\n",
    "- PyTorch utilizes a method called automatic differentiation (autograd) for computing gradients. This allows for dynamic definition and execution of computational graphs compared to static methods used in TensorFlow, which might limit flexibility during production.\n",
    "- Unlike other frameworks, PyTorch does not require precompiled computational graphs before model training. \n",
    "- PyTorch models can adjust to variations in input size.\n",
    "- The syntax of PyTorch is similar to Python, making it more familiar and easier to learn for Python users.\n",
    "\n",
    "## Data Types in PyTorch\n",
    "\n",
    "- PyTorch supports different types of data including:\n",
    "    - Float Tensor: This tensor type is made up of 32-bit floating-point numbers.\n",
    "    - Long Tensor: This tensor type consists of 64-bit integers.\n"
   ]
  },
  {
   "cell_type": "markdown",
   "id": "ec21a725",
   "metadata": {},
   "source": [
    "# Code Segment"
   ]
  },
  {
   "cell_type": "code",
   "execution_count": 13,
   "id": "4b261d6a",
   "metadata": {},
   "outputs": [],
   "source": [
    "\n",
    "import numpy as np \n",
    "import pandas as pd \n",
    "import matplotlib.pyplot as plt\n",
    "from torch import nn, optim\n",
    "import torch.nn.functional as F\n",
    "import torch.utils.data as data\n",
    "import torch\n",
    "from torch.autograd import Variable"
   ]
  },
  {
   "cell_type": "code",
   "execution_count": 2,
   "id": "bacc3076-551d-40e1-9b76-87a0c209b711",
   "metadata": {},
   "outputs": [
    {
     "name": "stdout",
     "output_type": "stream",
     "text": [
      "tensor([1., 2.])\n"
     ]
    }
   ],
   "source": [
    "import torch\n",
    "x = torch.tensor([1.,2.])\n",
    "print(x)\n",
    "\n",
    "#initialising a tensor"
   ]
  },
  {
   "cell_type": "code",
   "execution_count": 3,
   "id": "2e47b77a-8bde-4ac3-bc8a-b6825174a641",
   "metadata": {},
   "outputs": [
    {
     "name": "stdout",
     "output_type": "stream",
     "text": [
      "tensor([3., 8.])\n"
     ]
    }
   ],
   "source": [
    "x = torch.tensor([1., 2.])\n",
    "y = torch.tensor([3., 4.])\n",
    "\n",
    "print(x*y)\n",
    "\n",
    "#multiplying tensors"
   ]
  },
  {
   "cell_type": "code",
   "execution_count": 3,
   "id": "5532bd6e-e46c-424e-b21f-b6388c36bd39",
   "metadata": {},
   "outputs": [
    {
     "name": "stdout",
     "output_type": "stream",
     "text": [
      "tensor(2.)\n"
     ]
    }
   ],
   "source": [
    "x = torch.tensor([[1., 2.],[5., 3.],[0., 4.]])\n",
    "\n",
    "print(x[0][1])\n",
    "\n",
    "#indexing a tensor, gotta do it like a double list way\n",
    "#however returns a tensor object instead"
   ]
  },
  {
   "cell_type": "code",
   "execution_count": 4,
   "id": "3dfb0527-06c6-4d2b-890d-fe5775e3d678",
   "metadata": {},
   "outputs": [
    {
     "name": "stdout",
     "output_type": "stream",
     "text": [
      "2.0\n"
     ]
    }
   ],
   "source": [
    "#therefore gotta use .item() function\n",
    "\n",
    "print(x[0][1].item())"
   ]
  },
  {
   "cell_type": "code",
   "execution_count": 5,
   "id": "3e03b7a9-6d70-4e87-9a87-e92583875088",
   "metadata": {},
   "outputs": [
    {
     "data": {
      "text/plain": [
       "torch.Size([3, 2])"
      ]
     },
     "execution_count": 5,
     "metadata": {},
     "output_type": "execute_result"
    }
   ],
   "source": [
    "x.shape\n",
    "\n",
    "#shows (3x2) which is order 2."
   ]
  },
  {
   "cell_type": "code",
   "execution_count": 4,
   "id": "54ade63c-53e7-4342-bdc7-f4e68848a9fc",
   "metadata": {},
   "outputs": [],
   "source": [
    "cuda = torch.device('cuda')"
   ]
  },
  {
   "cell_type": "code",
   "execution_count": 5,
   "id": "8b936d3c-b25f-4773-89c7-1fd8665fad7c",
   "metadata": {},
   "outputs": [],
   "source": [
    "x = torch.tensor([5., 3.], device=cuda)\n"
   ]
  },
  {
   "cell_type": "code",
   "execution_count": 6,
   "id": "2f45ca14-7adc-41cf-b6d9-7b8db224bc93",
   "metadata": {},
   "outputs": [],
   "source": [
    "y = torch.tensor([4., 2.]).cuda()\n",
    "\n"
   ]
  },
  {
   "cell_type": "code",
   "execution_count": 7,
   "id": "f68cc2a6",
   "metadata": {},
   "outputs": [
    {
     "data": {
      "text/plain": [
       "tensor([20.,  6.], device='cuda:0')"
      ]
     },
     "execution_count": 7,
     "metadata": {},
     "output_type": "execute_result"
    }
   ],
   "source": [
    "x*y"
   ]
  },
  {
   "cell_type": "markdown",
   "id": "3b144b39",
   "metadata": {},
   "source": [
    "## Building a SimpleNN"
   ]
  },
  {
   "cell_type": "code",
   "execution_count": 9,
   "id": "8a8e781b",
   "metadata": {},
   "outputs": [],
   "source": [
    "#Load in training data\n",
    "\n",
    "train = pd.read_csv(\"train.csv\")\n",
    "train_labels = train['label'].values"
   ]
  },
  {
   "cell_type": "code",
   "execution_count": 10,
   "id": "9b615a9d",
   "metadata": {},
   "outputs": [],
   "source": [
    "train = train.drop(\"label\", axis =1).values.reshape(len(train), 1,28,28) \n",
    "\n",
    "#reshaped our input to (1, 1, 28, 28),\n",
    "# which is a tensor of 1,000 images, each consisting of 28x28 pixels. (array type)"
   ]
  },
  {
   "cell_type": "code",
   "execution_count": 14,
   "id": "57b82ff4",
   "metadata": {},
   "outputs": [],
   "source": [
    "# convert to pytorch tensors to then be fed into a NN\n",
    "\n",
    "X = torch.Tensor(train.astype(float))\n",
    "y = torch.Tensor(train_labels).long() #what is long?\n",
    "\n",
    "# a float tensor comprises 32 bit FP number\n",
    "# X needs to be float inorder to compute gradients\n",
    "# a long tensor comprises of 64 bit integer\n",
    "# y is a discrete label for classification model (predicting 1 2 3 etc)"
   ]
  },
  {
   "cell_type": "code",
   "execution_count": 16,
   "id": "54f35cf1",
   "metadata": {},
   "outputs": [],
   "source": [
    "# Building actual NN\n",
    "# NOTE:\n",
    "# output of one layer must be the same size as the input of the next layer\n",
    "\n",
    "class MNISTClassifier(nn.Module):\n",
    "    # init used to set up layers and drop out\n",
    "    def __init__(self):\n",
    "        super().__init__()\n",
    "        self.fc1 = nn.Linear(784,392)\n",
    "        self.fc2 = nn.Linear(392,196)\n",
    "        self.fc3 = nn.Linear(196,98)\n",
    "        self.fc4 = nn.Linear(98,10)\n",
    "        \n",
    "        #drop makes model more robust and prevents overfitting\n",
    "        self.dropout = nn.Dropout(p=0.2)\n",
    "    \n",
    "    #forward method used to aply activation functions and define where dropout is placed at\n",
    "    def forward(self, x):\n",
    "        x = x.view(x.shape[0], -1)\n",
    "        x = self.dropout(F.relu(self.fc1(x)))\n",
    "        x = self.dropout(F.relu(self.fc2(x)))\n",
    "        x = self.dropout(F.relu(self.fc3(x)))\n",
    "        x = F.log_softmax(self.fc4(x), dim =1)\n",
    "        \n",
    "        return x"
   ]
  },
  {
   "cell_type": "code",
   "execution_count": 17,
   "id": "105253c3",
   "metadata": {},
   "outputs": [],
   "source": [
    "model = MNISTClassifier()\n",
    "loss_function = nn.NLLLoss()\n",
    "opt = optim.Adam(model.parameters(), lr = 0.001)"
   ]
  },
  {
   "cell_type": "code",
   "execution_count": 18,
   "id": "45b2a3a4",
   "metadata": {},
   "outputs": [
    {
     "name": "stdout",
     "output_type": "stream",
     "text": [
      "Epoch [1/50] Loss: 6.7822\n",
      "Epoch [2/50] Loss: 3.5774\n",
      "Epoch [3/50] Loss: 2.2566\n",
      "Epoch [4/50] Loss: 1.7789\n",
      "Epoch [5/50] Loss: 1.4516\n",
      "Epoch [6/50] Loss: 1.2382\n",
      "Epoch [7/50] Loss: 1.1078\n",
      "Epoch [8/50] Loss: 1.0144\n",
      "Epoch [9/50] Loss: 0.8970\n",
      "Epoch [10/50] Loss: 0.7774\n",
      "Epoch [11/50] Loss: 0.6566\n",
      "Epoch [12/50] Loss: 0.6934\n",
      "Epoch [13/50] Loss: 0.5916\n",
      "Epoch [14/50] Loss: 0.5786\n",
      "Epoch [15/50] Loss: 0.4943\n",
      "Epoch [16/50] Loss: 0.4699\n",
      "Epoch [17/50] Loss: 0.4096\n",
      "Epoch [18/50] Loss: 0.4108\n",
      "Epoch [19/50] Loss: 0.3665\n",
      "Epoch [20/50] Loss: 0.3310\n",
      "Epoch [21/50] Loss: 0.3175\n",
      "Epoch [22/50] Loss: 0.2983\n",
      "Epoch [23/50] Loss: 0.2360\n",
      "Epoch [24/50] Loss: 0.2587\n",
      "Epoch [25/50] Loss: 0.2116\n",
      "Epoch [26/50] Loss: 0.2185\n",
      "Epoch [27/50] Loss: 0.1822\n",
      "Epoch [28/50] Loss: 0.1858\n",
      "Epoch [29/50] Loss: 0.1485\n",
      "Epoch [30/50] Loss: 0.1343\n",
      "Epoch [31/50] Loss: 0.1566\n",
      "Epoch [32/50] Loss: 0.1252\n",
      "Epoch [33/50] Loss: 0.1271\n",
      "Epoch [34/50] Loss: 0.0923\n",
      "Epoch [35/50] Loss: 0.1016\n",
      "Epoch [36/50] Loss: 0.0971\n",
      "Epoch [37/50] Loss: 0.0907\n",
      "Epoch [38/50] Loss: 0.0945\n",
      "Epoch [39/50] Loss: 0.0777\n",
      "Epoch [40/50] Loss: 0.0766\n",
      "Epoch [41/50] Loss: 0.0769\n",
      "Epoch [42/50] Loss: 0.0726\n",
      "Epoch [43/50] Loss: 0.0755\n",
      "Epoch [44/50] Loss: 0.0581\n",
      "Epoch [45/50] Loss: 0.0456\n",
      "Epoch [46/50] Loss: 0.0445\n",
      "Epoch [47/50] Loss: 0.0540\n",
      "Epoch [48/50] Loss: 0.0508\n",
      "Epoch [49/50] Loss: 0.0464\n",
      "Epoch [50/50] Loss: 0.0469\n"
     ]
    }
   ],
   "source": [
    "for epoch in range(50):\n",
    "    images = Variable(X)\n",
    "    labels = Variable(y)\n",
    "    \n",
    "    opt.zero_grad()\n",
    "    outputs = model(images)\n",
    "    \n",
    "    loss = loss_function(outputs, labels)\n",
    "    loss.backward()\n",
    "    opt.step()\n",
    "    \n",
    "    print('Epoch [%d/%d] Loss: %.4f' %(epoch+1, 50, loss.data.item()))"
   ]
  },
  {
   "cell_type": "code",
   "execution_count": 20,
   "id": "414dd932",
   "metadata": {},
   "outputs": [],
   "source": [
    "# Making predictions\n",
    "\n",
    "test = pd.read_csv(\"test.csv\")\n",
    "test_labels = test['label'].values\n",
    "test = test.drop(\"label\", axis =1).values.reshape(len(test), 1, 28,28)\n"
   ]
  },
  {
   "cell_type": "code",
   "execution_count": 21,
   "id": "dbd3b931",
   "metadata": {},
   "outputs": [],
   "source": [
    "X_test = torch.Tensor(test.astype(float))\n",
    "y_test = torch.Tensor(test_labels).long()"
   ]
  },
  {
   "cell_type": "code",
   "execution_count": 22,
   "id": "ae2d27ee",
   "metadata": {},
   "outputs": [],
   "source": [
    "preds = model(X_test)"
   ]
  },
  {
   "cell_type": "code",
   "execution_count": 23,
   "id": "d3c9402e",
   "metadata": {},
   "outputs": [
    {
     "name": "stdout",
     "output_type": "stream",
     "text": [
      "tensor([-1.9699e+01, -1.4701e+01, -1.5058e+01, -1.3170e+01, -1.0350e+01,\n",
      "        -1.6658e+01, -1.7644e+01, -8.0809e+00, -7.4689e+00, -9.1499e-04],\n",
      "       grad_fn=<SelectBackward0>)\n"
     ]
    }
   ],
   "source": [
    "print(preds[0])"
   ]
  },
  {
   "cell_type": "code",
   "execution_count": 25,
   "id": "777480e9",
   "metadata": {},
   "outputs": [
    {
     "data": {
      "text/html": [
       "<div>\n",
       "<style scoped>\n",
       "    .dataframe tbody tr th:only-of-type {\n",
       "        vertical-align: middle;\n",
       "    }\n",
       "\n",
       "    .dataframe tbody tr th {\n",
       "        vertical-align: top;\n",
       "    }\n",
       "\n",
       "    .dataframe thead th {\n",
       "        text-align: right;\n",
       "    }\n",
       "</style>\n",
       "<table border=\"1\" class=\"dataframe\">\n",
       "  <thead>\n",
       "    <tr style=\"text-align: right;\">\n",
       "      <th></th>\n",
       "      <th>Predicted Value</th>\n",
       "      <th>True Value</th>\n",
       "    </tr>\n",
       "  </thead>\n",
       "  <tbody>\n",
       "    <tr>\n",
       "      <th>0</th>\n",
       "      <td>9</td>\n",
       "      <td>9</td>\n",
       "    </tr>\n",
       "    <tr>\n",
       "      <th>1</th>\n",
       "      <td>8</td>\n",
       "      <td>5</td>\n",
       "    </tr>\n",
       "    <tr>\n",
       "      <th>2</th>\n",
       "      <td>2</td>\n",
       "      <td>2</td>\n",
       "    </tr>\n",
       "    <tr>\n",
       "      <th>3</th>\n",
       "      <td>4</td>\n",
       "      <td>4</td>\n",
       "    </tr>\n",
       "    <tr>\n",
       "      <th>4</th>\n",
       "      <td>1</td>\n",
       "      <td>1</td>\n",
       "    </tr>\n",
       "    <tr>\n",
       "      <th>5</th>\n",
       "      <td>4</td>\n",
       "      <td>4</td>\n",
       "    </tr>\n",
       "    <tr>\n",
       "      <th>6</th>\n",
       "      <td>4</td>\n",
       "      <td>4</td>\n",
       "    </tr>\n",
       "    <tr>\n",
       "      <th>7</th>\n",
       "      <td>5</td>\n",
       "      <td>5</td>\n",
       "    </tr>\n",
       "    <tr>\n",
       "      <th>8</th>\n",
       "      <td>2</td>\n",
       "      <td>2</td>\n",
       "    </tr>\n",
       "    <tr>\n",
       "      <th>9</th>\n",
       "      <td>7</td>\n",
       "      <td>7</td>\n",
       "    </tr>\n",
       "    <tr>\n",
       "      <th>10</th>\n",
       "      <td>7</td>\n",
       "      <td>7</td>\n",
       "    </tr>\n",
       "    <tr>\n",
       "      <th>11</th>\n",
       "      <td>4</td>\n",
       "      <td>4</td>\n",
       "    </tr>\n",
       "    <tr>\n",
       "      <th>12</th>\n",
       "      <td>1</td>\n",
       "      <td>1</td>\n",
       "    </tr>\n",
       "    <tr>\n",
       "      <th>13</th>\n",
       "      <td>9</td>\n",
       "      <td>4</td>\n",
       "    </tr>\n",
       "    <tr>\n",
       "      <th>14</th>\n",
       "      <td>1</td>\n",
       "      <td>1</td>\n",
       "    </tr>\n",
       "  </tbody>\n",
       "</table>\n",
       "</div>"
      ],
      "text/plain": [
       "    Predicted Value  True Value\n",
       "0                 9           9\n",
       "1                 8           5\n",
       "2                 2           2\n",
       "3                 4           4\n",
       "4                 1           1\n",
       "5                 4           4\n",
       "6                 4           4\n",
       "7                 5           5\n",
       "8                 2           2\n",
       "9                 7           7\n",
       "10                7           7\n",
       "11                4           4\n",
       "12                1           1\n",
       "13                9           4\n",
       "14                1           1"
      ]
     },
     "metadata": {},
     "output_type": "display_data"
    }
   ],
   "source": [
    "_, predictionlabel = torch.max(preds.data,1)\n",
    "predictionlabel = predictionlabel.tolist()\n",
    "predictionlabel = pd.Series(predictionlabel)\n",
    "test_labels = pd.Series(test_labels)\n",
    "pred_table = pd.concat([predictionlabel, test_labels], axis = 1)\n",
    "pred_table.columns = ['Predicted Value', 'True Value']\n",
    "display(pred_table.head(15))"
   ]
  },
  {
   "cell_type": "code",
   "execution_count": 27,
   "id": "a0bad0d4",
   "metadata": {},
   "outputs": [
    {
     "name": "stdout",
     "output_type": "stream",
     "text": [
      "89.0\n"
     ]
    }
   ],
   "source": [
    "preds = len(predictionlabel)\n",
    "correct = len([1 for x,y in zip(predictionlabel, test_labels) if x==y])\n",
    "print((correct/preds)*100)"
   ]
  },
  {
   "cell_type": "markdown",
   "id": "9ef120f8",
   "metadata": {},
   "source": [
    "## NLP for PyTorch"
   ]
  },
  {
   "cell_type": "code",
   "execution_count": 28,
   "id": "c99f3b15",
   "metadata": {},
   "outputs": [],
   "source": [
    "import numpy as np \n",
    "import pandas as pd \n",
    "\n",
    "import matplotlib.pyplot as plt\n",
    "\n",
    "import torch\n",
    "import torch.nn.functional as F\n",
    "from torch import nn, optim"
   ]
  },
  {
   "cell_type": "code",
   "execution_count": 30,
   "id": "02328a90",
   "metadata": {},
   "outputs": [],
   "source": [
    "training_data = [\n",
    "        (\"Veinte paginas\".lower().split(), \"Spanish\"),\n",
    "        (\"I will visit the library\".lower().split(), \"English\"),\n",
    "        (\"I am reading a book\".lower().split(), \"English\"),\n",
    "        (\"This is my favourite chapter\".lower().split(), \"English\"),\n",
    "        (\"Estoy en la biblioteca\".lower().split(), \"Spanish\"),\n",
    "        (\"Tengo un libro\".lower().split(), \"Spanish\")\n",
    "        ]\n",
    "\n",
    "test_data = [\n",
    "        (\"Estoy leyendo\".lower().split(), \"Spanish\"),\n",
    "        (\"This is not my favourite book\".lower().split(), \"English\")\n",
    "        ]\n",
    "\n",
    "# NOTE:\n",
    "# lower() is used to prevent duplication in data"
   ]
  },
  {
   "cell_type": "code",
   "execution_count": 46,
   "id": "72a6d7df",
   "metadata": {},
   "outputs": [
    {
     "name": "stdout",
     "output_type": "stream",
     "text": [
      "{'veinte': 0, 'paginas': 1, 'i': 2, 'will': 3, 'visit': 4, 'the': 5, 'library': 6, 'am': 7, 'reading': 8, 'a': 9, 'book': 10, 'this': 11, 'is': 12, 'my': 13, 'favourite': 14, 'chapter': 15, 'estoy': 16, 'en': 17, 'la': 18, 'biblioteca': 19, 'tengo': 20, 'un': 21, 'libro': 22, 'leyendo': 23, 'not': 24}\n"
     ]
    }
   ],
   "source": [
    "# building word index, dictionary of all words in the corpus\n",
    "# create unique index value for each word\n",
    "\n",
    "word_dict = {}\n",
    "i = 0\n",
    "for words, language in training_data +test_data:\n",
    "    for word in words:\n",
    "        if word not in word_dict:\n",
    "            word_dict[word] = i\n",
    "            i += 1\n",
    "\n",
    "print(word_dict)"
   ]
  },
  {
   "cell_type": "code",
   "execution_count": 49,
   "id": "754074ce",
   "metadata": {},
   "outputs": [],
   "source": [
    "corpus_size = len(word_dict)\n",
    "languages = 2\n",
    "label_index = {\"Spanish\":0, \"English\":1}"
   ]
  },
  {
   "cell_type": "code",
   "execution_count": 52,
   "id": "fb6e42d7",
   "metadata": {},
   "outputs": [],
   "source": [
    "class BagofWordsClassifier(nn.Module):\n",
    "    def __init__(self, languages, corpus_size):\n",
    "        super(BagofWordsClassifier,self).__init__()\n",
    "        self.linear = nn.Linear(corpus_size,languages)\n",
    "    \n",
    "    def forward(self,bow_vec):\n",
    "        return F.log_softmax(self.linear(bow_vec), dim =1)\n",
    "    "
   ]
  },
  {
   "cell_type": "code",
   "execution_count": 53,
   "id": "316c25cf",
   "metadata": {},
   "outputs": [],
   "source": [
    "def make_bow_vector(sentence, word_index):\n",
    "    word_vec = torch.zeros(corpus_size)\n",
    "    for word in sentence:\n",
    "        word_vec[word_dict[word]] += 1\n",
    "    return word_vec.view(1,-1)\n",
    "\n",
    "def make_target(label, label_index):\n",
    "    return torch.LongTensor([label_index[label]])"
   ]
  },
  {
   "cell_type": "code",
   "execution_count": 54,
   "id": "64be793a",
   "metadata": {},
   "outputs": [],
   "source": [
    "model = BagofWordsClassifier(languages, corpus_size)\n",
    "loss_function = nn.NLLLoss()\n",
    "optimizer = optim.SGD(model.parameters(), lr =0.1)"
   ]
  },
  {
   "cell_type": "code",
   "execution_count": 55,
   "id": "2d89cf9f",
   "metadata": {},
   "outputs": [
    {
     "name": "stdout",
     "output_type": "stream",
     "text": [
      "Epoch:  1 , Loss: 0.831039547920227\n",
      "Epoch:  11 , Loss: 0.14231812953948975\n",
      "Epoch:  21 , Loss: 0.07090627402067184\n",
      "Epoch:  31 , Loss: 0.04670780524611473\n",
      "Epoch:  41 , Loss: 0.03471290320158005\n",
      "Epoch:  51 , Loss: 0.027583042159676552\n",
      "Epoch:  61 , Loss: 0.02286754548549652\n",
      "Epoch:  71 , Loss: 0.019521258771419525\n",
      "Epoch:  81 , Loss: 0.01702515222132206\n",
      "Epoch:  91 , Loss: 0.015092584304511547\n"
     ]
    }
   ],
   "source": [
    "# we first zero our gradients (as otherwise, PyTorch calculates gradients cumulatively)\n",
    "\n",
    "for epoch in range(100):\n",
    "    for sentence, label in training_data:\n",
    "        model.zero_grad()\n",
    "        bow_vec = make_bow_vector(sentence, word_dict)\n",
    "        target = make_target(label, label_index)\n",
    "        log_probs = model(bow_vec)\n",
    "        loss = loss_function(log_probs, target)\n",
    "        loss.backward()\n",
    "        optimizer.step()\n",
    "        \n",
    "    if epoch % 10 == 0:\n",
    "        print('Epoch: ', str(epoch +1), ', Loss: ' + str(loss.item()))"
   ]
  },
  {
   "cell_type": "code",
   "execution_count": 56,
   "id": "2080c800",
   "metadata": {},
   "outputs": [
    {
     "name": "stdout",
     "output_type": "stream",
     "text": [
      "['estoy', 'leyendo']\n",
      "Spanish:\n",
      "tensor([[0.8607, 0.1393]])\n",
      "['this', 'is', 'not', 'my', 'favourite', 'book']\n",
      "English:\n",
      "tensor([[0.0137, 0.9863]])\n"
     ]
    }
   ],
   "source": [
    "def make_predictions(data):\n",
    "\n",
    "    with torch.no_grad():\n",
    "\n",
    "        sentence = data[0]\n",
    "\n",
    "        label = data[1]\n",
    "\n",
    "        bow_vec = make_bow_vector(sentence, word_dict)\n",
    "\n",
    "        log_probs = model(bow_vec)\n",
    "\n",
    "        print(sentence)\n",
    "\n",
    "        print(label + ':')\n",
    "\n",
    "        print(np.exp(log_probs))\n",
    "\n",
    "        \n",
    "\n",
    "make_predictions(test_data[0])\n",
    "\n",
    "make_predictions(test_data[1])"
   ]
  }
 ],
 "metadata": {
  "kernelspec": {
   "display_name": "Python 3 (ipykernel)",
   "language": "python",
   "name": "python3"
  },
  "language_info": {
   "codemirror_mode": {
    "name": "ipython",
    "version": 3
   },
   "file_extension": ".py",
   "mimetype": "text/x-python",
   "name": "python",
   "nbconvert_exporter": "python",
   "pygments_lexer": "ipython3",
   "version": "3.10.9"
  }
 },
 "nbformat": 4,
 "nbformat_minor": 5
}
