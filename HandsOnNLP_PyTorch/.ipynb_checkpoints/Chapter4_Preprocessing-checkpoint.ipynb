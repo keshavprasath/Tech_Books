{
 "cells": [
  {
   "cell_type": "markdown",
   "id": "0f0abd01",
   "metadata": {},
   "source": [
    "# Text Preprocessing, Stemming & Lemmatization\n",
    "\n",
    "## Text Preprocessing\n",
    "- Text preprocessing includes steps such as stemming and lemmatization that reduce words to their lexical roots, helping minimize word variation in the corpus.\n",
    "\n",
    "### Common Text Cleaning Steps\n",
    "- **Remove HTML**: Use libraries like Beautiful Soup to strip out HTML tags from raw text.\n",
    "- **Convert to Lowercase**: Reducing text to lowercase can help minimize word variations. However, be cautious as this may cause confusion with certain words (e.g., 'May' the month vs 'may' the verb). Context-based techniques can help address this.\n",
    "- **Remove Punctuation**: Use regular expressions (re) to remove punctuation. Use replace functions for specific symbols like & or @.\n",
    "- **Replace Numbers**: Replace numbers with standardized outputs to reduce data complexity.\n",
    "\n",
    "## Stemming & Lemmatization\n",
    "- Both Stemming and Lemmatization are techniques used to reduce a word to its lexical root form. \n",
    "\n",
    "### Stemming\n",
    "- Stemming is an algorithmic process where the ends of words are cut off to arrive at a common root.\n",
    "- It may not always yield an actual word. Different stemmers may produce different results, with the Porter Stemmer being one of the most common.\n",
    "- The Porter Stemmer uses a large number of logical rules to stem a word. However, it does have limitations due to the complex rules of English language word formation.\n",
    "\n",
    "### Lemmatization\n",
    "- Lemmatization reduces words to their true roots (lemmas) based on actual vocabulary and structural analysis of the word.\n",
    "- It uses precomputed lemma dictionaries and considers the context of the word within the sentence.\n",
    "- The WordNet Lemmatizer from the NLTK library is a popular choice.\n",
    "- The downside is that it may not be able to handle new, made-up, or informal words.\n",
    "\n",
    "### Differences between Stemming and Lemmatization\n",
    "- Stemming is faster but may yield lower quality results, while lemmatization is more computationally expensive but usually provides higher quality results.\n",
    "- The choice between the two depends on the context of the analysis and the trade-off between speed and detail.\n",
    "\n",
    "## Why Preprocess Text with Stemming and Lemmatization?\n",
    "- Preprocessing using stemming and lemmatization, along with the removal of stop words, can help distill sentences down to their core meanings.\n",
    "- This not only reduces corpus size but also improves data quality and speeds up processing, which is beneficial when analyzing sentences within deep learning frameworks.\n"
   ]
  },
  {
   "cell_type": "markdown",
   "id": "04c172c1",
   "metadata": {},
   "source": [
    "# Code segment"
   ]
  },
  {
   "cell_type": "code",
   "execution_count": 5,
   "id": "13f2324b",
   "metadata": {},
   "outputs": [],
   "source": [
    "from bs4 import BeautifulSoup\n",
    "import re"
   ]
  },
  {
   "cell_type": "code",
   "execution_count": 6,
   "id": "85d332b1",
   "metadata": {},
   "outputs": [
    {
     "name": "stdout",
     "output_type": "stream",
     "text": [
      "Input: <b> This text is in bold</br>, <i> This text is in italics </i>\n",
      "Output:  This text is in bold,  This text is in italics \n",
      "Input: ['Cat', 'cat', 'CAT']\n",
      "Output: ['cat', 'cat', 'cat']\n",
      "Input: This ,sentence.'' contains-£ no:: punctuation?\n",
      "Output: This sentence contains no punctuation\n",
      "Input: Cats & dogs\n",
      "Output: Cats and dogs\n"
     ]
    }
   ],
   "source": [
    "input_text = \"<b> This text is in bold</br>, <i> This text is in italics </i>\"\n",
    "output_text =  BeautifulSoup(input_text, \"html.parser\").get_text()\n",
    "print('Input: ' + input_text)\n",
    "print('Output: ' + output_text)\n",
    "\n",
    "input_text = ['Cat','cat','CAT']\n",
    "output_text =  [x.lower() for x in input_text]\n",
    "print('Input: ' + str(input_text))\n",
    "print('Output: ' + str(output_text))\n",
    "\n",
    "input_text = \"This ,sentence.'' contains-£ no:: punctuation?\"\n",
    "output_text = re.sub(r'[^\\w\\s]', '', input_text)\n",
    "print('Input: ' + input_text)\n",
    "print('Output: ' + output_text)\n",
    "\n",
    "input_text = \"Cats & dogs\"\n",
    "output_text = input_text.replace(\"&\", \"and\")\n",
    "print('Input: ' + input_text)\n",
    "print('Output: ' + output_text)"
   ]
  },
  {
   "cell_type": "code",
   "execution_count": 1,
   "id": "17afa11a",
   "metadata": {},
   "outputs": [
    {
     "name": "stderr",
     "output_type": "stream",
     "text": [
      "[nltk_data] Downloading package wordnet to /home/kprasath/nltk_data...\n",
      "[nltk_data]   Package wordnet is already up-to-date!\n"
     ]
    }
   ],
   "source": [
    "from nltk.stem import PorterStemmer\n",
    "import nltk.corpus\n",
    "from nltk.corpus import wordnet\n",
    "from nltk import word_tokenize\n",
    "import nltk\n",
    "nltk.download('wordnet')\n",
    "from nltk.stem import WordNetLemmatizer"
   ]
  },
  {
   "cell_type": "code",
   "execution_count": null,
   "id": "fc701a8e",
   "metadata": {},
   "outputs": [],
   "source": [
    "porter = PorterStemmer()\n"
   ]
  },
  {
   "cell_type": "code",
   "execution_count": null,
   "id": "55009b76",
   "metadata": {},
   "outputs": [],
   "source": [
    "word_list = [\"see\",\"saw\",\"cat\", \"cats\", \"stem\", \"stemming\",\"lemma\",\"lemmatization\",\"known\",\"knowing\",\"time\", \"timing\",\"football\", \"footballers\"]\n",
    "for word in word_list:\n",
    "    print(word + ' -> ' + porter.stem(word))"
   ]
  },
  {
   "cell_type": "code",
   "execution_count": null,
   "id": "79dd9600",
   "metadata": {},
   "outputs": [],
   "source": [
    "def SentenceStemmer(sentence):\n",
    "    tokens=word_tokenize(sentence)\n",
    "    stems=[porter.stem(word) for word in tokens]\n",
    "    return \" \".join(stems)\n",
    "\n",
    "SentenceStemmer('The cats and dogs are running')"
   ]
  },
  {
   "cell_type": "code",
   "execution_count": null,
   "id": "4a8208c7",
   "metadata": {},
   "outputs": [],
   "source": [
    "wordnet_lemmatizer = WordNetLemmatizer()\n",
    "\n",
    "print(wordnet_lemmatizer.lemmatize('horses'))\n",
    "print(wordnet_lemmatizer.lemmatize('wolves'))\n",
    "print(wordnet_lemmatizer.lemmatize('mice'))\n",
    "print(wordnet_lemmatizer.lemmatize('cacti'))"
   ]
  },
  {
   "cell_type": "code",
   "execution_count": null,
   "id": "e371e166",
   "metadata": {},
   "outputs": [],
   "source": [
    "\n",
    "print(wordnet_lemmatizer.lemmatize('madeupwords'))\n",
    "print(porter.stem('madeupwords'))"
   ]
  },
  {
   "cell_type": "code",
   "execution_count": null,
   "id": "9ad4e44f",
   "metadata": {},
   "outputs": [],
   "source": [
    "print(wordnet_lemmatizer.lemmatize('ran'))\n",
    "print(wordnet_lemmatizer.lemmatize('run'))"
   ]
  },
  {
   "cell_type": "code",
   "execution_count": null,
   "id": "994b0699",
   "metadata": {},
   "outputs": [],
   "source": [
    "\n",
    "sentence = 'The cats and dogs are running'\n",
    "\n",
    "def return_word_pos_tuples(sentence):\n",
    "    return nltk.pos_tag(nltk.word_tokenize(sentence))\n",
    "\n",
    "return_word_pos_tuples(sentence)"
   ]
  },
  {
   "cell_type": "code",
   "execution_count": null,
   "id": "0dcf2958",
   "metadata": {},
   "outputs": [],
   "source": [
    "\n",
    "def get_pos_wordnet(pos_tag):\n",
    "    pos_dict = {\"N\": wordnet.NOUN,\n",
    "                \"V\": wordnet.VERB,\n",
    "                \"J\": wordnet.ADJ,\n",
    "                \"R\": wordnet.ADV}\n",
    "\n",
    "    return pos_dict.get(pos_tag[0].upper(), wordnet.NOUN)\n",
    "\n",
    "get_pos_wordnet('VBG')"
   ]
  },
  {
   "cell_type": "code",
   "execution_count": null,
   "id": "84e54917",
   "metadata": {},
   "outputs": [],
   "source": [
    "\n",
    "def lemmatize_with_pos(sentence):\n",
    "    new_sentence = []\n",
    "    tuples = return_word_pos_tuples(sentence)\n",
    "    for tup in tuples:\n",
    "        pos = get_pos_wordnet(tup[1])\n",
    "        lemma = wordnet_lemmatizer.lemmatize(tup[0], pos=pos)\n",
    "        new_sentence.append(lemma)\n",
    "    return new_sentence\n",
    "\n",
    "print(lemmatize_with_pos(sentence))"
   ]
  }
 ],
 "metadata": {
  "kernelspec": {
   "display_name": "Python 3 (ipykernel)",
   "language": "python",
   "name": "python3"
  },
  "language_info": {
   "codemirror_mode": {
    "name": "ipython",
    "version": 3
   },
   "file_extension": ".py",
   "mimetype": "text/x-python",
   "name": "python",
   "nbconvert_exporter": "python",
   "pygments_lexer": "ipython3",
   "version": "3.10.9"
  }
 },
 "nbformat": 4,
 "nbformat_minor": 5
}
